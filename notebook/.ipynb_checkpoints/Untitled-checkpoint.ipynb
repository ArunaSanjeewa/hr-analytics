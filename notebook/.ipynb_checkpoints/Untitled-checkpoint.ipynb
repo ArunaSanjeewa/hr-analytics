{
 "cells": [
  {
   "cell_type": "code",
   "execution_count": 8,
   "metadata": {
    "collapsed": false
   },
   "outputs": [
    {
     "name": "stdout",
     "output_type": "stream",
     "text": [
      "Checking whether there is an H2O instance running at http://localhost:54322..... not found.\n",
      "Attempting to start a local H2O server...\n",
      "  Java Version: openjdk version \"1.8.0_102\"; OpenJDK Runtime Environment (build 1.8.0_102-8u102-b14.1-1~bpo8+1-b14); OpenJDK 64-Bit Server VM (build 25.102-b14, mixed mode)\n",
      "  Starting server from /usr/local/lib/python2.7/dist-packages/h2o/backend/bin/h2o.jar\n",
      "  Ice root: /tmp/tmpZAAKOY\n",
      "  JVM stdout: /tmp/tmpZAAKOY/h2o_schiessl_started_from_python.out\n",
      "  JVM stderr: /tmp/tmpZAAKOY/h2o_schiessl_started_from_python.err\n",
      "  Server is running at http://127.0.0.1:54332\n",
      "Connecting to H2O server at http://127.0.0.1:54332... successful.\n"
     ]
    },
    {
     "data": {
      "text/html": [
       "<div style=\"overflow:auto\"><table style=\"width:50%\"><tr><td>H2O cluster uptime:</td>\n",
       "<td>02 secs</td></tr>\n",
       "<tr><td>H2O cluster version:</td>\n",
       "<td>3.10.0.10</td></tr>\n",
       "<tr><td>H2O cluster version age:</td>\n",
       "<td>26 days </td></tr>\n",
       "<tr><td>H2O cluster name:</td>\n",
       "<td>H2O_from_python_schiessl_xor7bu</td></tr>\n",
       "<tr><td>H2O cluster total nodes:</td>\n",
       "<td>1</td></tr>\n",
       "<tr><td>H2O cluster free memory:</td>\n",
       "<td>4.368 Gb</td></tr>\n",
       "<tr><td>H2O cluster total cores:</td>\n",
       "<td>6</td></tr>\n",
       "<tr><td>H2O cluster allowed cores:</td>\n",
       "<td>6</td></tr>\n",
       "<tr><td>H2O cluster status:</td>\n",
       "<td>accepting new members, healthy</td></tr>\n",
       "<tr><td>H2O connection url:</td>\n",
       "<td>http://127.0.0.1:54332</td></tr>\n",
       "<tr><td>H2O connection proxy:</td>\n",
       "<td>None</td></tr>\n",
       "<tr><td>Python version:</td>\n",
       "<td>2.7.9 final</td></tr></table></div>"
      ],
      "text/plain": [
       "--------------------------  -------------------------------\n",
       "H2O cluster uptime:         02 secs\n",
       "H2O cluster version:        3.10.0.10\n",
       "H2O cluster version age:    26 days\n",
       "H2O cluster name:           H2O_from_python_schiessl_xor7bu\n",
       "H2O cluster total nodes:    1\n",
       "H2O cluster free memory:    4.368 Gb\n",
       "H2O cluster total cores:    6\n",
       "H2O cluster allowed cores:  6\n",
       "H2O cluster status:         accepting new members, healthy\n",
       "H2O connection url:         http://127.0.0.1:54332\n",
       "H2O connection proxy:\n",
       "Python version:             2.7.9 final\n",
       "--------------------------  -------------------------------"
      ]
     },
     "metadata": {},
     "output_type": "display_data"
    },
    {
     "name": "stdout",
     "output_type": "stream",
     "text": [
      "Parse progress: |█████████████████████████████████████████████████████████| 100%\n",
      "drf Model Build progress: |███████████████████████████████████████████████| 100%\n",
      "drf prediction progress: |████████████████████████████████████████████████| 100%\n"
     ]
    },
    {
     "data": {
      "text/html": [
       "<table>\n",
       "<thead>\n",
       "<tr><th style=\"text-align: right;\">  predict</th></tr>\n",
       "</thead>\n",
       "<tbody>\n",
       "<tr><td style=\"text-align: right;\"> 0.969509</td></tr>\n",
       "<tr><td style=\"text-align: right;\"> 0.996822</td></tr>\n",
       "<tr><td style=\"text-align: right;\"> 0.964298</td></tr>\n",
       "<tr><td style=\"text-align: right;\"> 1       </td></tr>\n",
       "<tr><td style=\"text-align: right;\"> 0.967688</td></tr>\n",
       "<tr><td style=\"text-align: right;\"> 0.97803 </td></tr>\n",
       "<tr><td style=\"text-align: right;\"> 1       </td></tr>\n",
       "<tr><td style=\"text-align: right;\"> 0.977696</td></tr>\n",
       "<tr><td style=\"text-align: right;\"> 0.97428 </td></tr>\n",
       "<tr><td style=\"text-align: right;\"> 0.977669</td></tr>\n",
       "</tbody>\n",
       "</table>"
      ]
     },
     "metadata": {},
     "output_type": "display_data"
    },
    {
     "data": {
      "text/plain": []
     },
     "execution_count": 8,
     "metadata": {},
     "output_type": "execute_result"
    }
   ],
   "source": [
    "import h2o\n",
    "from h2o.estimators.random_forest import H2ORandomForestEstimator\n",
    "\n",
    "h2o.init(port=54322)\n",
    "\n",
    "\n",
    "# get training and prediction data sets\n",
    "key_employees = h2o.import_file('/home/demos/hr-analytics/data/key_employees.csv')\n",
    "\n",
    "#air = h2o.import_file(\"http://h2o-public-test-data.s3.amazonaws.com/smalldata/airlines/AirlinesTrain.csv.zip\")\n",
    "\n",
    "# only use columns 1 through 11\n",
    "#air = air[0:11]\n",
    "#air_pred = h2o.import_file(\"http://h2o-public-test-data.s3.amazonaws.com/smalldata/airlines/AirlinesTest.csv.zip\")\n",
    "\n",
    "#subset the training data into train and validation sets\n",
    "r = key_employees[0].runif()\n",
    "key_employees_train = key_employees[r < 0.8]\n",
    "key_employees_valid = key_employees[r >= 0.8]\n",
    "\n",
    "# specify your features and response column\n",
    "myX = [\"satisfaction_level\", \"last_evaluation\", \"number_projects\", \"average_monthly_hours\", \"time_spent_company\", \n",
    "       \"work_accident\", \"promotion_last_5_years\", \"department\", \"salary_level\"]\n",
    "myY = \"left\"\n",
    "\n",
    "# build and train your model\n",
    "rf_bal = H2ORandomForestEstimator(seed=12, ntrees=50, max_depth=10, balance_classes=True)\n",
    "rf_bal.train(x=myX, y=myY, training_frame=key_employees_train, validation_frame=key_employees_valid)\n",
    "\n",
    "\n",
    "# show predicted yes/no output with probability for yes and no\n",
    "rf_bal.predict(key_employees[0:8])"
   ]
  }
 ],
 "metadata": {
  "kernelspec": {
   "display_name": "Python 2",
   "language": "python",
   "name": "python2"
  },
  "language_info": {
   "codemirror_mode": {
    "name": "ipython",
    "version": 2
   },
   "file_extension": ".py",
   "mimetype": "text/x-python",
   "name": "python",
   "nbconvert_exporter": "python",
   "pygments_lexer": "ipython2",
   "version": "2.7.9"
  }
 },
 "nbformat": 4,
 "nbformat_minor": 1
}
