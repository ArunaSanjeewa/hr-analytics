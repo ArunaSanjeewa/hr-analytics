{
 "cells": [
  {
   "cell_type": "code",
   "execution_count": 1,
   "metadata": {
    "collapsed": false
   },
   "outputs": [],
   "source": [
    "import pandas as pd\n",
    "import numpy as np\n",
    "from __future__ import division\n",
    "\n",
    "#disable warnings in notebook\n",
    "import warnings\n",
    "warnings.filterwarnings('ignore')\n"
   ]
  },
  {
   "cell_type": "code",
   "execution_count": 2,
   "metadata": {
    "collapsed": false
   },
   "outputs": [
    {
     "name": "stdout",
     "output_type": "stream",
     "text": [
      "Column names:\n",
      "['name', 'satisfaction_level', 'last_evaluation', 'number_projects', 'average_monthly_hours', 'time_spent_company', 'work_accident', 'left', 'promotion_last_5_years', 'department', 'salary', 'salary_level']\n",
      "\n",
      "Sample data:\n"
     ]
    },
    {
     "data": {
      "text/html": [
       "<div>\n",
       "<table border=\"1\" class=\"dataframe\">\n",
       "  <thead>\n",
       "    <tr style=\"text-align: right;\">\n",
       "      <th></th>\n",
       "      <th>name</th>\n",
       "      <th>satisfaction_level</th>\n",
       "      <th>last_evaluation</th>\n",
       "      <th>number_projects</th>\n",
       "      <th>average_monthly_hours</th>\n",
       "      <th>time_spent_company</th>\n",
       "      <th>work_accident</th>\n",
       "      <th>left</th>\n",
       "      <th>promotion_last_5_years</th>\n",
       "      <th>department</th>\n",
       "      <th>salary</th>\n",
       "      <th>salary_level</th>\n",
       "    </tr>\n",
       "  </thead>\n",
       "  <tbody>\n",
       "    <tr>\n",
       "      <th>0</th>\n",
       "      <td>SMITH</td>\n",
       "      <td>0.38</td>\n",
       "      <td>0.53</td>\n",
       "      <td>2</td>\n",
       "      <td>157</td>\n",
       "      <td>3</td>\n",
       "      <td>0</td>\n",
       "      <td>1</td>\n",
       "      <td>0</td>\n",
       "      <td>sales</td>\n",
       "      <td>low</td>\n",
       "      <td>1</td>\n",
       "    </tr>\n",
       "    <tr>\n",
       "      <th>1</th>\n",
       "      <td>JOHNSON</td>\n",
       "      <td>0.80</td>\n",
       "      <td>0.86</td>\n",
       "      <td>5</td>\n",
       "      <td>262</td>\n",
       "      <td>6</td>\n",
       "      <td>0</td>\n",
       "      <td>1</td>\n",
       "      <td>0</td>\n",
       "      <td>sales</td>\n",
       "      <td>medium</td>\n",
       "      <td>2</td>\n",
       "    </tr>\n",
       "    <tr>\n",
       "      <th>2</th>\n",
       "      <td>WILLIAMS</td>\n",
       "      <td>0.11</td>\n",
       "      <td>0.88</td>\n",
       "      <td>7</td>\n",
       "      <td>272</td>\n",
       "      <td>4</td>\n",
       "      <td>0</td>\n",
       "      <td>1</td>\n",
       "      <td>0</td>\n",
       "      <td>sales</td>\n",
       "      <td>medium</td>\n",
       "      <td>2</td>\n",
       "    </tr>\n",
       "    <tr>\n",
       "      <th>3</th>\n",
       "      <td>BROWN</td>\n",
       "      <td>0.72</td>\n",
       "      <td>0.87</td>\n",
       "      <td>5</td>\n",
       "      <td>223</td>\n",
       "      <td>5</td>\n",
       "      <td>0</td>\n",
       "      <td>1</td>\n",
       "      <td>0</td>\n",
       "      <td>sales</td>\n",
       "      <td>low</td>\n",
       "      <td>1</td>\n",
       "    </tr>\n",
       "    <tr>\n",
       "      <th>4</th>\n",
       "      <td>JONES</td>\n",
       "      <td>0.37</td>\n",
       "      <td>0.52</td>\n",
       "      <td>2</td>\n",
       "      <td>159</td>\n",
       "      <td>3</td>\n",
       "      <td>0</td>\n",
       "      <td>1</td>\n",
       "      <td>0</td>\n",
       "      <td>sales</td>\n",
       "      <td>low</td>\n",
       "      <td>1</td>\n",
       "    </tr>\n",
       "    <tr>\n",
       "      <th>5</th>\n",
       "      <td>MILLER</td>\n",
       "      <td>0.41</td>\n",
       "      <td>0.50</td>\n",
       "      <td>2</td>\n",
       "      <td>153</td>\n",
       "      <td>3</td>\n",
       "      <td>0</td>\n",
       "      <td>1</td>\n",
       "      <td>0</td>\n",
       "      <td>sales</td>\n",
       "      <td>low</td>\n",
       "      <td>1</td>\n",
       "    </tr>\n",
       "  </tbody>\n",
       "</table>\n",
       "</div>"
      ],
      "text/plain": [
       "       name  satisfaction_level  last_evaluation  number_projects  \\\n",
       "0     SMITH                0.38             0.53                2   \n",
       "1   JOHNSON                0.80             0.86                5   \n",
       "2  WILLIAMS                0.11             0.88                7   \n",
       "3     BROWN                0.72             0.87                5   \n",
       "4     JONES                0.37             0.52                2   \n",
       "5    MILLER                0.41             0.50                2   \n",
       "\n",
       "   average_monthly_hours  time_spent_company  work_accident  left  \\\n",
       "0                    157                   3              0     1   \n",
       "1                    262                   6              0     1   \n",
       "2                    272                   4              0     1   \n",
       "3                    223                   5              0     1   \n",
       "4                    159                   3              0     1   \n",
       "5                    153                   3              0     1   \n",
       "\n",
       "   promotion_last_5_years department  salary  salary_level  \n",
       "0                       0      sales     low             1  \n",
       "1                       0      sales  medium             2  \n",
       "2                       0      sales  medium             2  \n",
       "3                       0      sales     low             1  \n",
       "4                       0      sales     low             1  \n",
       "5                       0      sales     low             1  "
      ]
     },
     "execution_count": 2,
     "metadata": {},
     "output_type": "execute_result"
    }
   ],
   "source": [
    "leave_df = pd.read_csv('../data/raw_data.csv')\n",
    "col_names = leave_df.columns.tolist()\n",
    "\n",
    "print \"Column names:\"\n",
    "print col_names\n",
    "\n",
    "print \"\\nSample data:\"\n",
    "leave_df.head(6)"
   ]
  },
  {
   "cell_type": "code",
   "execution_count": 3,
   "metadata": {
    "collapsed": false
   },
   "outputs": [
    {
     "name": "stdout",
     "output_type": "stream",
     "text": [
      "Feature space holds 14999 observations and 9 features\n",
      "Unique target labels: [0 1]\n"
     ]
    }
   ],
   "source": [
    "# Isolate target data\n",
    "y = leave_df['left']\n",
    "\n",
    "# We don't need these columns\n",
    "to_drop = ['name', 'salary', 'left']\n",
    "leave_feat_space = leave_df.drop(to_drop,axis=1)\n",
    "\n",
    "# Pull out features for future use\n",
    "features = leave_feat_space.columns\n",
    "\n",
    "# convert label features to integers\n",
    "from sklearn import preprocessing\n",
    "le_sales = preprocessing.LabelEncoder()\n",
    "le_sales.fit(leave_feat_space[\"department\"])\n",
    "leave_feat_space[\"department\"] = le_sales.transform(leave_feat_space.loc[:,('department')])\n",
    "\n",
    "# transforme the whole feature space into a matrix\n",
    "X = leave_feat_space.as_matrix().astype(np.float)\n",
    "\n",
    "# standardize all features\n",
    "scaler = preprocessing.StandardScaler()\n",
    "X = scaler.fit_transform(X)\n",
    "\n",
    "print \"Feature space holds %d observations and %d features\" % X.shape\n",
    "print \"Unique target labels:\", np.unique(y)"
   ]
  },
  {
   "cell_type": "code",
   "execution_count": 4,
   "metadata": {
    "collapsed": true
   },
   "outputs": [],
   "source": [
    "# prediction function\n",
    "def run_cv(X,y,clf_class, method, **kwargs):\n",
    "    \n",
    "    from sklearn.model_selection import cross_val_predict\n",
    "    \n",
    "    # Initialize a classifier with key word arguments\n",
    "    clf = clf_class(**kwargs)\n",
    "    \n",
    "    predicted = cross_val_predict(clf, X, y, cv=3, method=method)\n",
    "    \n",
    "    return predicted"
   ]
  },
  {
   "cell_type": "code",
   "execution_count": 5,
   "metadata": {
    "collapsed": false
   },
   "outputs": [
    {
     "name": "stdout",
     "output_type": "stream",
     "text": [
      "Support vector machines:\n",
      "0.958\n",
      "Random forest:\n",
      "0.989\n",
      "K-nearest-neighbors:\n",
      "0.952\n"
     ]
    }
   ],
   "source": [
    "from sklearn.svm import SVC\n",
    "from sklearn.ensemble import RandomForestClassifier as RF\n",
    "from sklearn.neighbors import KNeighborsClassifier as KNN\n",
    "from sklearn import metrics\n",
    "\n",
    "def accuracy(y, predicted):\n",
    "    # NumPy interprets True and False as 1. and 0.\n",
    "    return metrics.accuracy_score(y, predicted)\n",
    "\n",
    "print \"Support vector machines:\"\n",
    "print \"%.3f\" % accuracy(y, run_cv(X,y,SVC, method='predict'))\n",
    "print \"Random forest:\"\n",
    "print \"%.3f\" % accuracy(y, run_cv(X,y,RF, method='predict'))\n",
    "print \"K-nearest-neighbors:\"\n",
    "print \"%.3f\" % accuracy(y, run_cv(X,y,KNN, method='predict'))"
   ]
  },
  {
   "cell_type": "code",
   "execution_count": 6,
   "metadata": {
    "collapsed": false
   },
   "outputs": [
    {
     "name": "stdout",
     "output_type": "stream",
     "text": [
      "[('Support Vector Machines', array([[11135,   293],\n",
      "       [  332,  3239]])), ('Random Forest', array([[11373,    55],\n",
      "       [  116,  3455]])), ('K-Nearest-Neighbors', array([[11002,   426],\n",
      "       [  289,  3282]]))]\n"
     ]
    }
   ],
   "source": [
    "from sklearn.metrics import confusion_matrix\n",
    "\n",
    "y = np.array(y)\n",
    "class_names = np.unique(y)\n",
    "\n",
    "# calculate confusion matrices\n",
    "confusion_matrices = [\n",
    "    ( \"Support Vector Machines\", confusion_matrix(y,run_cv(X,y,SVC, method='predict')) ),\n",
    "    ( \"Random Forest\", confusion_matrix(y,run_cv(X,y,RF, method='predict')) ),\n",
    "    ( \"K-Nearest-Neighbors\", confusion_matrix(y,run_cv(X,y,KNN, method='predict')) ),\n",
    "]\n",
    "\n",
    "# show confusion matrix values\n",
    "print confusion_matrices\n"
   ]
  },
  {
   "cell_type": "code",
   "execution_count": 7,
   "metadata": {
    "collapsed": false
   },
   "outputs": [
    {
     "data": {
      "image/png": "[encoded data removed]",
      "text/plain": [
       "<matplotlib.figure.Figure at 0x7f658e17bad0>"
      ]
     },
     "metadata": {},
     "output_type": "display_data"
    },
    {
     "data": {
      "image/png": "[encoded data removed]",
      "text/plain": [
       "<matplotlib.figure.Figure at 0x7f658e12eb90>"
      ]
     },
     "metadata": {},
     "output_type": "display_data"
    },
    {
     "data": {
      "image/png": "[encoded data removed]",
      "text/plain": [
       "<matplotlib.figure.Figure at 0x7f658dfeddd0>"
      ]
     },
     "metadata": {},
     "output_type": "display_data"
    },
    {
     "data": {
      "text/plain": [
       "<matplotlib.figure.Figure at 0x7f658de8c410>"
      ]
     },
     "metadata": {},
     "output_type": "display_data"
    }
   ],
   "source": [
    "import matplotlib.pyplot as plt\n",
    "import seaborn as sn\n",
    "%matplotlib inline\n",
    "\n",
    "# draw confusion matrices\n",
    "for cf in confusion_matrices:\n",
    "\n",
    "    ax = plt.axes()\n",
    "    ax.set_title(cf[0])\n",
    "    \n",
    "    df_cm = pd.DataFrame(cf[1], index = [\"Real 0\", \"Real 1\"], columns = [\"Pred 0\", \"Pred 1\"])\n",
    "    plt.figure(figsize = (6,5))\n",
    "    sn.heatmap(df_cm, annot=True, ax = ax, square=True, fmt=\"d\",linewidths=.5)"
   ]
  },
  {
   "cell_type": "code",
   "execution_count": 8,
   "metadata": {
    "collapsed": false
   },
   "outputs": [
    {
     "data": {
      "text/html": [
       "<div>\n",
       "<table border=\"1\" class=\"dataframe\">\n",
       "  <thead>\n",
       "    <tr style=\"text-align: right;\">\n",
       "      <th></th>\n",
       "      <th>pred_prob</th>\n",
       "      <th>count</th>\n",
       "      <th>true_prob</th>\n",
       "    </tr>\n",
       "  </thead>\n",
       "  <tbody>\n",
       "    <tr>\n",
       "      <th>0</th>\n",
       "      <td>0.0</td>\n",
       "      <td>9371</td>\n",
       "      <td>0.005122</td>\n",
       "    </tr>\n",
       "    <tr>\n",
       "      <th>1</th>\n",
       "      <td>1.0</td>\n",
       "      <td>3118</td>\n",
       "      <td>0.993906</td>\n",
       "    </tr>\n",
       "    <tr>\n",
       "      <th>2</th>\n",
       "      <td>0.1</td>\n",
       "      <td>1454</td>\n",
       "      <td>0.013755</td>\n",
       "    </tr>\n",
       "    <tr>\n",
       "      <th>3</th>\n",
       "      <td>0.2</td>\n",
       "      <td>387</td>\n",
       "      <td>0.023256</td>\n",
       "    </tr>\n",
       "    <tr>\n",
       "      <th>4</th>\n",
       "      <td>0.9</td>\n",
       "      <td>188</td>\n",
       "      <td>0.968085</td>\n",
       "    </tr>\n",
       "    <tr>\n",
       "      <th>5</th>\n",
       "      <td>0.3</td>\n",
       "      <td>168</td>\n",
       "      <td>0.059524</td>\n",
       "    </tr>\n",
       "    <tr>\n",
       "      <th>6</th>\n",
       "      <td>0.8</td>\n",
       "      <td>84</td>\n",
       "      <td>0.904762</td>\n",
       "    </tr>\n",
       "    <tr>\n",
       "      <th>7</th>\n",
       "      <td>0.7</td>\n",
       "      <td>73</td>\n",
       "      <td>0.945205</td>\n",
       "    </tr>\n",
       "    <tr>\n",
       "      <th>8</th>\n",
       "      <td>0.4</td>\n",
       "      <td>72</td>\n",
       "      <td>0.111111</td>\n",
       "    </tr>\n",
       "    <tr>\n",
       "      <th>9</th>\n",
       "      <td>0.5</td>\n",
       "      <td>47</td>\n",
       "      <td>0.404255</td>\n",
       "    </tr>\n",
       "    <tr>\n",
       "      <th>10</th>\n",
       "      <td>0.6</td>\n",
       "      <td>37</td>\n",
       "      <td>0.837838</td>\n",
       "    </tr>\n",
       "  </tbody>\n",
       "</table>\n",
       "</div>"
      ],
      "text/plain": [
       "    pred_prob  count  true_prob\n",
       "0         0.0   9371   0.005122\n",
       "1         1.0   3118   0.993906\n",
       "2         0.1   1454   0.013755\n",
       "3         0.2    387   0.023256\n",
       "4         0.9    188   0.968085\n",
       "5         0.3    168   0.059524\n",
       "6         0.8     84   0.904762\n",
       "7         0.7     73   0.945205\n",
       "8         0.4     72   0.111111\n",
       "9         0.5     47   0.404255\n",
       "10        0.6     37   0.837838"
      ]
     },
     "execution_count": 8,
     "metadata": {},
     "output_type": "execute_result"
    }
   ],
   "source": [
    "# Use 10 estimators so predictions are all multiples of 0.1\n",
    "pred_prob = run_cv(X, y, RF, n_estimators=10,  method='predict_proba',)\n",
    "\n",
    "pred_leave = pred_prob[:,1]\n",
    "is_leave = y == 1\n",
    "\n",
    "# Number of times a predicted probability is assigned to an observation\n",
    "counts = pd.value_counts(pred_leave)\n",
    "\n",
    "# calculate true probabilities\n",
    "true_prob = {}\n",
    "for prob in counts.index:\n",
    "    true_prob[prob] = np.mean(is_leave[pred_leave == prob])\n",
    "    true_prob = pd.Series(true_prob)\n",
    "\n",
    "# pandas-fu\n",
    "counts = pd.concat([counts,true_prob], axis=1).reset_index()\n",
    "counts.columns = ['pred_prob', 'count', 'true_prob']\n",
    "counts"
   ]
  },
  {
   "cell_type": "code",
   "execution_count": 9,
   "metadata": {
    "collapsed": false
   },
   "outputs": [],
   "source": [
    "#create a dataframe containing prob values\n",
    "pred_prob_df = pd.DataFrame(pred_prob)\n",
    "pred_prob_df.columns = ['prob_not_leaving', 'prob_leaving']\n",
    "\n",
    "#merge dataframes to get the name of employees\n",
    "all_employees_pred_prob_df = pd.concat([leave_df, pred_prob_df], axis=1)\n",
    "\n",
    "#filter out employees still in the company and having a good evaluation\n",
    "good_employees_still_working_df = all_employees_pred_prob_df[(all_employees_pred_prob_df[\"left\"] == 0) & \n",
    "                                                            (all_employees_pred_prob_df[\"last_evaluation\"] >= 0.7)]\n",
    "\n",
    "good_employees_still_working_df.sort_values(by='prob_leaving', ascending=False, inplace=True)\n",
    "\n",
    "#write to csv\n",
    "good_employees_still_working_df.to_csv(\"/home/demos/hr-analytics/output/good_employees_leaving_prob.csv\")\n"
   ]
  }
 ],
 "metadata": {
  "kernelspec": {
   "display_name": "Python 2",
   "language": "python",
   "name": "python2"
  },
  "language_info": {
   "codemirror_mode": {
    "name": "ipython",
    "version": 2
   },
   "file_extension": ".py",
   "mimetype": "text/x-python",
   "name": "python",
   "nbconvert_exporter": "python",
   "pygments_lexer": "ipython2",
   "version": "2.7.9"
  }
 },
 "nbformat": 4,
 "nbformat_minor": 1
}
